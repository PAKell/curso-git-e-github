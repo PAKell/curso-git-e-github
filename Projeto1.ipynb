{
  "nbformat": 4,
  "nbformat_minor": 0,
  "metadata": {
    "colab": {
      "provenance": [],
      "authorship_tag": "ABX9TyM+JWpRrR6KfIjoYhmFvH8m",
      "include_colab_link": true
    },
    "kernelspec": {
      "name": "python3",
      "display_name": "Python 3"
    },
    "language_info": {
      "name": "python"
    }
  },
  "cells": [
    {
      "cell_type": "markdown",
      "metadata": {
        "id": "view-in-github",
        "colab_type": "text"
      },
      "source": [
        "<a href=\"https://colab.research.google.com/github/PAKell/curso-git-e-github/blob/main/Projeto1.ipynb\" target=\"_parent\"><img src=\"https://colab.research.google.com/assets/colab-badge.svg\" alt=\"Open In Colab\"/></a>"
      ]
    },
    {
      "cell_type": "code",
      "execution_count": 9,
      "metadata": {
        "colab": {
          "base_uri": "https://localhost:8080/"
        },
        "id": "myoWbNMlWxA_",
        "outputId": "c5640da7-9d60-4126-d89a-771ed7718987"
      },
      "outputs": [
        {
          "output_type": "stream",
          "name": "stdout",
          "text": [
            "Bem-vindo ao conversor de moedas.\n",
            "Utilize o código oficial de cada moeda para fazer a conversão.\n",
            "\n",
            "Digite o valor a ser convertido: 200.00\n",
            "Digite a moeda de origem (ex: USD):USD\n",
            "Digite a moeda de destino (ex: EUR):BRL\n",
            "\n",
            "200.00  USD é equivalente a 984.00   BRL\n"
          ]
        }
      ],
      "source": [
        "import requests\n",
        "\n",
        "print('Bem-vindo ao conversor de moedas.\\nUtilize o código oficial de cada moeda para fazer a conversão.\\n')\n",
        "\n",
        "def isfloat(num):\n",
        "    try:\n",
        "        float(num)\n",
        "        return True\n",
        "    except ValueError:\n",
        "        return False\n",
        "\n",
        "def obter_taxas():\n",
        "    url = \"https://api.exchangerate-api.com/v4/latest/USD\"\n",
        "    response = requests.get(url)\n",
        "    data = response.json()\n",
        "    return data['rates']\n",
        "\n",
        "\n",
        "def conveter_moedas(valor, moeda_origem, moeda_destino, taxas):\n",
        "     if moeda_origem in taxas and moeda_destino in taxas:\n",
        "        taxas_origem = taxas[moeda_origem]\n",
        "        taxas_destino = taxas[moeda_destino]\n",
        "        valor_em_usd = valor / taxas_origem\n",
        "        valor_convertido = valor_em_usd*taxas_destino\n",
        "        return valor_convertido\n",
        "     else:\n",
        "         return None\n",
        "\n",
        "taxa_de_cambio = obter_taxas()\n",
        "valor = input('Digite o valor a ser convertido: ')\n",
        "\n",
        "if  isfloat(valor):\n",
        "   valor = float(valor)\n",
        "\n",
        "   moeda_origem = input('Digite a moeda de origem (ex: USD):').upper()\n",
        "\n",
        "   if moeda_origem in taxa_de_cambio:\n",
        "      moeda_destino = input('Digite a moeda de destino (ex: EUR):').upper()\n",
        "\n",
        "      if moeda_destino in taxa_de_cambio:\n",
        "         valor_convertido = conveter_moedas(valor, moeda_origem, moeda_destino, taxa_de_cambio)\n",
        "\n",
        "         if valor_convertido is not None:\n",
        "            print ( f'\\n{valor:.2f}  {moeda_origem} é equivalente a {valor_convertido:.2f}   {moeda_destino}')\n",
        "         else:\n",
        "            print('Conversão inválida')\n",
        "      else:\n",
        "         print('Moeda de destino inválida.')\n",
        "\n",
        "   else:\n",
        "      print('Moeda de origem inválida.')\n",
        "\n",
        "else:\n",
        "   print('Número inválido.')"
      ]
    }
  ]
}